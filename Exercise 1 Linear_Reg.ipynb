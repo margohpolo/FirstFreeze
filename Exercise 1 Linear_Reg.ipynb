{
 "cells": [
  {
   "cell_type": "markdown",
   "metadata": {},
   "source": [
    "## Linear Regression Example"
   ]
  },
  {
   "cell_type": "raw",
   "metadata": {},
   "source": [
    "1) dataset 'OmniPower.csv'\n",
    "2) Lin Reg Model with 2 independent variables (Price and Promotion), 1 DV (Sale)\n",
    "3) Provide input values and predict the Sale\n",
    "4) What is the R-square value?"
   ]
  },
  {
   "cell_type": "code",
   "execution_count": 2,
   "metadata": {},
   "outputs": [],
   "source": [
    "import pandas as pd\n",
    "import numpy as np\n",
    "import matplotlib.pyplot as plt\n",
    "import seaborn as sns"
   ]
  },
  {
   "cell_type": "code",
   "execution_count": 14,
   "metadata": {},
   "outputs": [
    {
     "data": {
      "text/html": [
       "<div>\n",
       "<style scoped>\n",
       "    .dataframe tbody tr th:only-of-type {\n",
       "        vertical-align: middle;\n",
       "    }\n",
       "\n",
       "    .dataframe tbody tr th {\n",
       "        vertical-align: top;\n",
       "    }\n",
       "\n",
       "    .dataframe thead th {\n",
       "        text-align: right;\n",
       "    }\n",
       "</style>\n",
       "<table border=\"1\" class=\"dataframe\">\n",
       "  <thead>\n",
       "    <tr style=\"text-align: right;\">\n",
       "      <th></th>\n",
       "      <th>Sales</th>\n",
       "      <th>Price</th>\n",
       "      <th>Promotion</th>\n",
       "    </tr>\n",
       "  </thead>\n",
       "  <tbody>\n",
       "    <tr>\n",
       "      <th>0</th>\n",
       "      <td>4141</td>\n",
       "      <td>59</td>\n",
       "      <td>200</td>\n",
       "    </tr>\n",
       "    <tr>\n",
       "      <th>1</th>\n",
       "      <td>3842</td>\n",
       "      <td>59</td>\n",
       "      <td>200</td>\n",
       "    </tr>\n",
       "    <tr>\n",
       "      <th>2</th>\n",
       "      <td>3056</td>\n",
       "      <td>59</td>\n",
       "      <td>200</td>\n",
       "    </tr>\n",
       "    <tr>\n",
       "      <th>3</th>\n",
       "      <td>3519</td>\n",
       "      <td>59</td>\n",
       "      <td>200</td>\n",
       "    </tr>\n",
       "    <tr>\n",
       "      <th>4</th>\n",
       "      <td>4226</td>\n",
       "      <td>59</td>\n",
       "      <td>400</td>\n",
       "    </tr>\n",
       "  </tbody>\n",
       "</table>\n",
       "</div>"
      ],
      "text/plain": [
       "   Sales  Price  Promotion\n",
       "0   4141     59        200\n",
       "1   3842     59        200\n",
       "2   3056     59        200\n",
       "3   3519     59        200\n",
       "4   4226     59        400"
      ]
     },
     "execution_count": 14,
     "metadata": {},
     "output_type": "execute_result"
    }
   ],
   "source": [
    "df = pd.read_csv('OmniPower.csv')\n",
    "df.head()"
   ]
  },
  {
   "cell_type": "code",
   "execution_count": 4,
   "metadata": {},
   "outputs": [
    {
     "data": {
      "text/plain": [
       "Sales        34\n",
       "Price        34\n",
       "Promotion    34\n",
       "dtype: int64"
      ]
     },
     "execution_count": 4,
     "metadata": {},
     "output_type": "execute_result"
    }
   ],
   "source": [
    "df.count() #hence no NaaN"
   ]
  },
  {
   "cell_type": "code",
   "execution_count": 5,
   "metadata": {},
   "outputs": [
    {
     "data": {
      "text/html": [
       "<div>\n",
       "<style scoped>\n",
       "    .dataframe tbody tr th:only-of-type {\n",
       "        vertical-align: middle;\n",
       "    }\n",
       "\n",
       "    .dataframe tbody tr th {\n",
       "        vertical-align: top;\n",
       "    }\n",
       "\n",
       "    .dataframe thead th {\n",
       "        text-align: right;\n",
       "    }\n",
       "</style>\n",
       "<table border=\"1\" class=\"dataframe\">\n",
       "  <thead>\n",
       "    <tr style=\"text-align: right;\">\n",
       "      <th></th>\n",
       "      <th>Sales</th>\n",
       "      <th>Price</th>\n",
       "      <th>Promotion</th>\n",
       "    </tr>\n",
       "  </thead>\n",
       "  <tbody>\n",
       "    <tr>\n",
       "      <th>29</th>\n",
       "      <td>1882</td>\n",
       "      <td>99</td>\n",
       "      <td>400</td>\n",
       "    </tr>\n",
       "    <tr>\n",
       "      <th>30</th>\n",
       "      <td>2159</td>\n",
       "      <td>99</td>\n",
       "      <td>400</td>\n",
       "    </tr>\n",
       "    <tr>\n",
       "      <th>31</th>\n",
       "      <td>1602</td>\n",
       "      <td>99</td>\n",
       "      <td>400</td>\n",
       "    </tr>\n",
       "    <tr>\n",
       "      <th>32</th>\n",
       "      <td>3354</td>\n",
       "      <td>99</td>\n",
       "      <td>600</td>\n",
       "    </tr>\n",
       "    <tr>\n",
       "      <th>33</th>\n",
       "      <td>2927</td>\n",
       "      <td>99</td>\n",
       "      <td>600</td>\n",
       "    </tr>\n",
       "  </tbody>\n",
       "</table>\n",
       "</div>"
      ],
      "text/plain": [
       "    Sales  Price  Promotion\n",
       "29   1882     99        400\n",
       "30   2159     99        400\n",
       "31   1602     99        400\n",
       "32   3354     99        600\n",
       "33   2927     99        600"
      ]
     },
     "execution_count": 5,
     "metadata": {},
     "output_type": "execute_result"
    }
   ],
   "source": [
    "df.tail()"
   ]
  },
  {
   "cell_type": "code",
   "execution_count": 6,
   "metadata": {},
   "outputs": [
    {
     "name": "stdout",
     "output_type": "stream",
     "text": [
      "(34, 3)\n"
     ]
    }
   ],
   "source": [
    "print(df.shape)"
   ]
  },
  {
   "cell_type": "code",
   "execution_count": 7,
   "metadata": {},
   "outputs": [],
   "source": [
    "%matplotlib inline"
   ]
  },
  {
   "cell_type": "markdown",
   "metadata": {},
   "source": [
    "## Visualize"
   ]
  },
  {
   "cell_type": "code",
   "execution_count": 11,
   "metadata": {},
   "outputs": [
    {
     "data": {
      "text/plain": [
       "<matplotlib.axes._subplots.AxesSubplot at 0x207f6e23630>"
      ]
     },
     "execution_count": 11,
     "metadata": {},
     "output_type": "execute_result"
    },
    {
     "data": {
      "image/png": "[encoded data removed]",
      "text/plain": [
       "<Figure size 432x288 with 1 Axes>"
      ]
     },
     "metadata": {
      "needs_background": "light"
     },
     "output_type": "display_data"
    }
   ],
   "source": [
    "sns.regplot(x='Price', y = 'Sales', data = df)"
   ]
  },
  {
   "cell_type": "code",
   "execution_count": 12,
   "metadata": {},
   "outputs": [
    {
     "data": {
      "text/plain": [
       "<matplotlib.axes._subplots.AxesSubplot at 0x207f6e959e8>"
      ]
     },
     "execution_count": 12,
     "metadata": {},
     "output_type": "execute_result"
    },
    {
     "data": {
      "image/png": "[encoded data removed]",
      "text/plain": [
       "<Figure size 432x288 with 1 Axes>"
      ]
     },
     "metadata": {
      "needs_background": "light"
     },
     "output_type": "display_data"
    }
   ],
   "source": [
    "sns.regplot(x='Promotion', y = 'Sales', data = df)"
   ]
  },
  {
   "cell_type": "markdown",
   "metadata": {},
   "source": [
    "## Model Training"
   ]
  },
  {
   "cell_type": "code",
   "execution_count": 66,
   "metadata": {},
   "outputs": [],
   "source": [
    "from sklearn import linear_model\n",
    "from sklearn.model_selection import train_test_split\n",
    "\n",
    "cause = df[['Price','Promotion']]\n",
    "sales = df.Sales\n",
    "\n",
    "x_train, x_test, y_train, y_test = train_test_split(cause,sales, test_size=0.2, random_state=0)\n"
   ]
  },
  {
   "cell_type": "code",
   "execution_count": 67,
   "metadata": {},
   "outputs": [
    {
     "name": "stdout",
     "output_type": "stream",
     "text": [
      "(27, 2)\n",
      "(7, 2)\n",
      "(27,)\n",
      "(7,)\n"
     ]
    }
   ],
   "source": [
    "print(x_train.shape) # x_train and x_test shape should be 2D array\n",
    "print(x_test.shape)\n",
    "print(y_train.shape)\n",
    "print(y_test.shape)"
   ]
  },
  {
   "cell_type": "code",
   "execution_count": 68,
   "metadata": {},
   "outputs": [
    {
     "data": {
      "text/html": [
       "<div>\n",
       "<style scoped>\n",
       "    .dataframe tbody tr th:only-of-type {\n",
       "        vertical-align: middle;\n",
       "    }\n",
       "\n",
       "    .dataframe tbody tr th {\n",
       "        vertical-align: top;\n",
       "    }\n",
       "\n",
       "    .dataframe thead th {\n",
       "        text-align: right;\n",
       "    }\n",
       "</style>\n",
       "<table border=\"1\" class=\"dataframe\">\n",
       "  <thead>\n",
       "    <tr style=\"text-align: right;\">\n",
       "      <th></th>\n",
       "      <th>Price</th>\n",
       "      <th>Promotion</th>\n",
       "    </tr>\n",
       "  </thead>\n",
       "  <tbody>\n",
       "    <tr>\n",
       "      <th>16</th>\n",
       "      <td>79</td>\n",
       "      <td>400</td>\n",
       "    </tr>\n",
       "    <tr>\n",
       "      <th>10</th>\n",
       "      <td>59</td>\n",
       "      <td>600</td>\n",
       "    </tr>\n",
       "    <tr>\n",
       "      <th>33</th>\n",
       "      <td>99</td>\n",
       "      <td>600</td>\n",
       "    </tr>\n",
       "    <tr>\n",
       "      <th>30</th>\n",
       "      <td>99</td>\n",
       "      <td>400</td>\n",
       "    </tr>\n",
       "    <tr>\n",
       "      <th>24</th>\n",
       "      <td>99</td>\n",
       "      <td>200</td>\n",
       "    </tr>\n",
       "  </tbody>\n",
       "</table>\n",
       "</div>"
      ],
      "text/plain": [
       "    Price  Promotion\n",
       "16     79        400\n",
       "10     59        600\n",
       "33     99        600\n",
       "30     99        400\n",
       "24     99        200"
      ]
     },
     "execution_count": 68,
     "metadata": {},
     "output_type": "execute_result"
    }
   ],
   "source": [
    "x_train.head()"
   ]
  },
  {
   "cell_type": "code",
   "execution_count": 69,
   "metadata": {},
   "outputs": [
    {
     "data": {
      "text/plain": [
       "LinearRegression(copy_X=True, fit_intercept=True, n_jobs=None, normalize=False)"
      ]
     },
     "execution_count": 69,
     "metadata": {},
     "output_type": "execute_result"
    }
   ],
   "source": [
    "# import model\n",
    "from sklearn.linear_model import LinearRegression\n",
    "\n",
    "#instantiate\n",
    "linReg = LinearRegression()\n",
    "\n",
    "# fit out linear model to the train set data\n",
    "linReg.fit(x_train, y_train)"
   ]
  },
  {
   "cell_type": "code",
   "execution_count": 70,
   "metadata": {},
   "outputs": [
    {
     "name": "stdout",
     "output_type": "stream",
     "text": [
      "5921.748093803224\n",
      "[-53.30051094   3.45233591]\n"
     ]
    }
   ],
   "source": [
    "# print the intercept and coefficients\n",
    "print(linReg.intercept_)\n",
    "print(linReg.coef_)"
   ]
  },
  {
   "cell_type": "markdown",
   "metadata": {},
   "source": [
    "## Predict Data"
   ]
  },
  {
   "cell_type": "code",
   "execution_count": 71,
   "metadata": {},
   "outputs": [
    {
     "name": "stdout",
     "output_type": "stream",
     "text": [
      "11    5015\n",
      "20    4113\n",
      "25     761\n",
      "17    2730\n",
      "2     3056\n",
      "26    2088\n",
      "31    1602\n",
      "Name: Sales, dtype: int64\n",
      "[4848.4194943  3782.40927551 1335.46469278 3091.94209354 3467.48513036\n",
      " 1335.46469278 2025.93187475]\n"
     ]
    }
   ],
   "source": [
    "y_hat = linReg.predict(x_test)\n",
    "print(y_test)\n",
    "print(y_hat)"
   ]
  },
  {
   "cell_type": "markdown",
   "metadata": {},
   "source": [
    "## Validation"
   ]
  },
  {
   "cell_type": "code",
   "execution_count": 72,
   "metadata": {},
   "outputs": [
    {
     "data": {
      "text/plain": [
       "216199.81283871792"
      ]
     },
     "execution_count": 72,
     "metadata": {},
     "output_type": "execute_result"
    }
   ],
   "source": [
    "from sklearn.metrics import mean_squared_error, r2_score\n",
    "\n",
    "# the error is large due to the data in our set are large values, we should use r2-score to check\n",
    "mean_squared_error(y_test, y_hat) "
   ]
  },
  {
   "cell_type": "code",
   "execution_count": 73,
   "metadata": {},
   "outputs": [
    {
     "data": {
      "text/plain": [
       "0.8816955738854297"
      ]
     },
     "execution_count": 73,
     "metadata": {},
     "output_type": "execute_result"
    }
   ],
   "source": [
    "r2_score(y_test, y_hat)"
   ]
  },
  {
   "cell_type": "markdown",
   "metadata": {},
   "source": [
    "## Looping the Random State"
   ]
  },
  {
   "cell_type": "code",
   "execution_count": 81,
   "metadata": {},
   "outputs": [],
   "source": [
    "from sklearn import linear_model\n",
    "from sklearn.model_selection import train_test_split\n",
    "from sklearn.linear_model import LinearRegression\n",
    "import pickle\n",
    "from joblib import dump, load\n",
    "\n",
    "\n",
    "cause = df[['Price','Promotion']]\n",
    "sales = df.Sales\n",
    "\n"
   ]
  },
  {
   "cell_type": "code",
   "execution_count": 94,
   "metadata": {},
   "outputs": [
    {
     "name": "stdout",
     "output_type": "stream",
     "text": [
      "0.8816955738854297\n",
      "0.3143615412673306\n",
      "0.6680776357599827\n",
      "0.6924470263693848\n",
      "-0.3913956556615201\n",
      "0.6801387956037874\n",
      "0.8308976886017426\n",
      "0.6635841939515162\n",
      "0.7945778471279848\n",
      "0.6186189025387596\n",
      "0.780856307572587\n",
      "0.5962112227220913\n",
      "-0.34194903406989274\n",
      "0.2362828402330659\n",
      "-0.19940320061263384\n",
      "0.5859533982972074\n",
      "0.7226920322981251\n",
      "0.8582459471107551\n",
      "0.5190084034071663\n",
      "0.6974029064158241\n",
      "0.6448194334656256\n",
      "0.6849053402477139\n",
      "0.28034427531640516\n",
      "0.6301419637610903\n",
      "0.5599593511401848\n",
      "0.7611349976094781\n",
      "0.7531176982311574\n",
      "0.8203401801736568\n",
      "0.31161724601346696\n",
      "0.6816585229523643\n",
      "0.7646088912868395\n",
      "0.722111652773569\n",
      "0.7093741376254126\n",
      "0.8890603874181103\n",
      "0.6581507795319037\n",
      "0.46624082119839483\n",
      "0.5687755937947673\n",
      "0.5784715460514473\n",
      "0.23701657768938644\n",
      "0.7001814694157846\n",
      "0.12878445532000493\n",
      "0.8453909602103746\n",
      "0.7358802563295199\n",
      "0.6565634193287324\n",
      "0.7508401521490028\n",
      "0.7024479976478817\n",
      "0.28065964077138017\n",
      "0.7882862522730256\n",
      "0.7275357159113655\n",
      "0.5488179628844094\n",
      "0.9041884672900006\n",
      "0.6892070736383482\n",
      "0.3943842808858945\n",
      "0.6430641835055582\n",
      "0.7040120998529357\n",
      "0.7712945536766657\n",
      "0.7379566504569832\n",
      "0.5221750026715706\n",
      "0.6808894099652653\n",
      "0.7462294845463189\n",
      "0.7399538828150954\n",
      "0.691230491400949\n",
      "0.3486429707909029\n",
      "0.7525097563917734\n",
      "0.9088989548606642\n",
      "0.39790168940734105\n",
      "0.8956297976090308\n",
      "0.5662299013481391\n",
      "-0.18574571298330111\n",
      "0.6957080812254263\n",
      "0.581521535069774\n",
      "0.7187408147240519\n",
      "0.9303280666187279\n",
      "Dumped linRegModel.\n"
     ]
    }
   ],
   "source": [
    "for i in range(0,101):\n",
    "    x_train, x_test, y_train, y_test = train_test_split(cause,sales, test_size=0.2, random_state=i)\n",
    "    linReg = LinearRegression()\n",
    "    linReg.fit(x_train, y_train)\n",
    "    y_hat = linReg.predict(x_test)\n",
    "    from sklearn.metrics import r2_score\n",
    "    r2_score(y_test, y_hat)\n",
    "    print(r2_score(y_test, y_hat))\n",
    "    if (r2_score(y_test, y_hat) > 0.9301):\n",
    "        dump(linReg, 'Exercise1_linRegModel.joblib')\n",
    "        print(\"Dumped linRegModel.\")\n",
    "        break"
   ]
  },
  {
   "cell_type": "markdown",
   "metadata": {},
   "source": [
    "## Test linRegModel"
   ]
  },
  {
   "cell_type": "code",
   "execution_count": 95,
   "metadata": {},
   "outputs": [],
   "source": [
    "linRegModel = load('Exercise1_linRegModel.joblib')"
   ]
  },
  {
   "cell_type": "code",
   "execution_count": 96,
   "metadata": {},
   "outputs": [
    {
     "name": "stdout",
     "output_type": "stream",
     "text": [
      "11    5015\n",
      "9     5120\n",
      "28    2114\n",
      "30    2159\n",
      "31    1602\n",
      "6     3507\n",
      "25     761\n",
      "Name: Sales, dtype: int64\n",
      "[4812.50406504 4812.50406504 2089.05284553 2089.05284553 2089.05284553\n",
      " 4135.88211382 1412.43089431]\n"
     ]
    }
   ],
   "source": [
    "y_hat = linRegModel.predict(x_test)\n",
    "print(y_test)\n",
    "print(y_hat)"
   ]
  },
  {
   "cell_type": "code",
   "execution_count": null,
   "metadata": {},
   "outputs": [],
   "source": []
  }
 ],
 "metadata": {
  "kernelspec": {
   "display_name": "Python 3",
   "language": "python",
   "name": "python3"
  },
  "language_info": {
   "codemirror_mode": {
    "name": "ipython",
    "version": 3
   },
   "file_extension": ".py",
   "mimetype": "text/x-python",
   "name": "python",
   "nbconvert_exporter": "python",
   "pygments_lexer": "ipython3",
   "version": "3.7.3"
  }
 },
 "nbformat": 4,
 "nbformat_minor": 2
}
